{
 "cells": [
  {
   "cell_type": "code",
   "execution_count": 6,
   "id": "8558711c",
   "metadata": {},
   "outputs": [],
   "source": [
    "# Import SQL database\n",
    "from sqlalchemy import create_engine\n",
    "from config import u_pass\n",
    "engine = create_engine(f'postgresql://{u_pass}@localhost:5432/employees')\n",
    "connection = engine.connect()"
   ]
  },
  {
   "cell_type": "code",
   "execution_count": null,
   "id": "54274753",
   "metadata": {},
   "outputs": [],
   "source": []
  }
 ],
 "metadata": {
  "kernelspec": {
   "display_name": "PythonData",
   "language": "python",
   "name": "pythondata"
  },
  "language_info": {
   "codemirror_mode": {
    "name": "ipython",
    "version": 3
   },
   "file_extension": ".py",
   "mimetype": "text/x-python",
   "name": "python",
   "nbconvert_exporter": "python",
   "pygments_lexer": "ipython3",
   "version": "3.7.7"
  }
 },
 "nbformat": 4,
 "nbformat_minor": 5
}
